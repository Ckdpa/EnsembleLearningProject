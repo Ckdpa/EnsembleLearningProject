{
 "cells": [
  {
   "cell_type": "markdown",
   "metadata": {},
   "source": [
    "Pierre Nikitits\n",
    "## Course Project: Electricity Price Explanation"
   ]
  },
  {
   "cell_type": "markdown",
   "metadata": {},
   "source": [
    "Dataset:\n",
    "\n",
    "- Consumption\n",
    "- Exchange\n",
    "- Net Export/Import\n",
    "- Energy Sources\n",
    "- Residual Load\n",
    "- Weather Conditions\n",
    "- Market Dynamics\n",
    "\n",
    "Steps:\n",
    "\n",
    "1. Preprocessing Data\n",
    "2. Metric definition\n",
    "3. Define models: Random Forest, Linear Regression, SVR, XGboost\n",
    "4. Hyperparameter Tuning: Optuna search\n",
    "5. Evaluation\n",
    "6. Interpretation"
   ]
  },
  {
   "cell_type": "markdown",
   "metadata": {},
   "source": [
    "## Loading and Preprocessing the data"
   ]
  },
  {
   "cell_type": "code",
   "execution_count": null,
   "metadata": {},
   "outputs": [],
   "source": [
    "import pandas as pd\n",
    "path = \"/Users/pierre/Documents/GitHub/EnsembleLearningProject/Data/\"\n",
    "\n",
    "X_train = pd.read_csv(path + 'X_train.csv').set_index('ID')\n",
    "y_train = pd.read_csv(path + 'y_train.csv').set_index('ID')\n",
    "X_test = pd.read_csv(path + 'X_test.csv').set_index('ID')\n",
    "y_test = pd.read_csv(path + 'y_test.csv').set_index('ID')"
   ]
  },
  {
   "cell_type": "code",
   "execution_count": null,
   "metadata": {},
   "outputs": [],
   "source": [
    "print(\"X_train :\" , X_train.shape)\n",
    "print(\"y_train :\" , y_train.shape)\n",
    "\n",
    "print(\"\\nX_test  :\" , X_test.shape)\n",
    "print(\"y_test  :\" , y_test.shape)"
   ]
  },
  {
   "cell_type": "code",
   "execution_count": null,
   "metadata": {},
   "outputs": [],
   "source": [
    "X_train.drop(columns=['COUNTRY' , 'DAY_ID'], inplace=True)\n",
    "X_test.drop(columns=['COUNTRY' , 'DAY_ID'], inplace=True)"
   ]
  },
  {
   "cell_type": "code",
   "execution_count": null,
   "metadata": {},
   "outputs": [],
   "source": [
    "X_train.head()"
   ]
  },
  {
   "cell_type": "code",
   "execution_count": null,
   "metadata": {},
   "outputs": [],
   "source": [
    "X_train = X_train.dropna()\n",
    "y_train = y_train.loc[X_train.index]\n",
    "\n",
    "X_test = X_test.dropna()\n",
    "y_test = y_test.loc[X_test.index]"
   ]
  },
  {
   "cell_type": "code",
   "execution_count": null,
   "metadata": {},
   "outputs": [],
   "source": [
    "print(X_train.shape)\n",
    "print(y_train.shape)"
   ]
  },
  {
   "cell_type": "markdown",
   "metadata": {},
   "source": [
    "## Metrics\n",
    "- Mean Squared Error\n",
    "- Root Mean Squared Error\n",
    "- Mean Absolute Error\n",
    "- R-squared\n",
    "- Mean Absolute Percentage Error"
   ]
  },
  {
   "cell_type": "code",
   "execution_count": null,
   "metadata": {},
   "outputs": [],
   "source": [
    "from sklearn.metrics import mean_squared_error, mean_absolute_error, r2_score , mean_absolute_percentage_error , log_loss\n",
    "from math import sqrt\n",
    "\n",
    "def find_metrics(y_test_values , predicted_values):\n",
    "    mse = mean_squared_error(y_test_values, predicted_values)\n",
    "    print(\"Mean Squared Error:\", mse)\n",
    "\n",
    "    rmse = sqrt(mean_squared_error(y_test_values, predicted_values))\n",
    "    print(f\"Root Mean Squared Error (RMSE): {rmse}\")\n",
    "\n",
    "    mae = mean_absolute_error(y_test_values, predicted_values)\n",
    "    print(f\"Mean Absolute Error (MAE): {mae}\")\n",
    "\n",
    "    r2 = r2_score(y_test_values, predicted_values)\n",
    "    print(f\"R-squared (R²): {r2}\")\n",
    "\n",
    "    mape = mean_absolute_percentage_error(y_test_values, predicted_values)\n",
    "    print(f\"Mean Absolute Percentage Error (MAPE): {mape}%\")"
   ]
  }
 ],
 "metadata": {
  "kernelspec": {
   "display_name": "base",
   "language": "python",
   "name": "python3"
  },
  "language_info": {
   "name": "python",
   "version": "3.11.4"
  }
 },
 "nbformat": 4,
 "nbformat_minor": 2
}
